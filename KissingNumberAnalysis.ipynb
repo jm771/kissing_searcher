{
 "cells": [
  {
   "cell_type": "code",
   "execution_count": 5,
   "id": "e9675f2e-309a-4216-a595-87023f26c1b1",
   "metadata": {},
   "outputs": [],
   "source": [
    "import numpy as np"
   ]
  },
  {
   "cell_type": "code",
   "execution_count": 6,
   "id": "f9ff02bb-6c06-4aa5-8184-bcc36e4a6535",
   "metadata": {},
   "outputs": [],
   "source": [
    "result = (cos_theta - 0.5)"
   ]
  },
  {
   "cell_type": "code",
   "execution_count": 285,
   "id": "3b2e079c-7d1e-48ae-921d-647e3ae9a1f7",
   "metadata": {},
   "outputs": [],
   "source": [
    "result = [[-0.733296, -0.668161, 0.0518386, 0.023282], [-0.669978, 0.730041, -0.0391551, -0.0634644], [0.669978, -0.730041, 0.0391551, 0.0634644], [0.733296, 0.668161, -0.0518386, -0.023282], [-0.709488, -0.0154582, -0.694472, -0.0385566], [-0.693785, 0.0773386, 0.707156, -0.00162585], [0.693785, -0.0773386, -0.707156, 0.00162585], [0.709488, 0.0154582, 0.694472, 0.0385566], [-0.683273, -0.0119945, 0.0274426, -0.720855], [-0.72, 0.0738749, -0.0147591, 0.680672], [0.72, -0.0738749, 0.0147591, -0.680672], [0.683273, 0.0119945, -0.0274426, 0.720855], [-0.0395107, -0.745499, -0.655317, 0.0249078], [-0.0238075, -0.652702, 0.746311, 0.0618386], [0.0238075, 0.652702, -0.746311, -0.0618386], [0.0395107, 0.745499, 0.655317, -0.0249078], [-0.0132955, -0.742036, 0.0665977, -0.65739], [-0.0500228, -0.656166, 0.024396, 0.744137], [0.0500228, 0.656166, -0.024396, -0.744137], [0.0132955, 0.742036, -0.0665977, 0.65739], [0.010512, -0.0893331, -0.679713, -0.719229], [-0.0262153, -0.00346369, -0.721915, 0.682298], [0.0262153, 0.00346369, 0.721915, -0.682298], [-0.010512, 0.0893331, 0.679713, 0.719229]]\n",
    "result = np.array(result).transpose()"
   ]
  },
  {
   "cell_type": "code",
   "execution_count": 286,
   "id": "2216c73b-a87e-470e-bc33-37f9fb455fec",
   "metadata": {},
   "outputs": [],
   "source": [
    "prev = [[0.546266, -0.27887, 0.780403, -0.0667982], [-0.814816, 0.0855346, -0.405324, -0.395118], [-0.0280642, 0.686867, 0.128158, 0.709521], [0.202877, -0.962073, 0.153983, 0.0530379], [0.419062, -0.496464, -0.59073, 0.471958], [0.679969, 0.620985, 0.380867, -0.00193258], [-0.201741, -0.496325, 0.0996721, 0.833312], [0.640997, -0.0433501, 0.23244, 0.724315], [0.438195, 0.392822, -0.507918, -0.621478], [-0.659259, 0.168892, -0.43048, 0.588195], [-0.425092, 0.353218, -0.0578247, -0.826908], [0.261621, -0.580446, -0.566141, -0.518096], [-0.759326, 0.541349, 0.336959, 0.0835572], [0.594634, 0.476308, -0.532992, 0.358148], [0.391671, -0.131411, 0.238721, -0.873977], [-0.489855, -0.693414, -0.506097, 0.124022], [-0.880212, -0.293122, 0.316456, 0.17288], [-0.102105, 0.0750395, -0.986963, -0.0147634], [-0.219857, 0.876088, -0.411559, -0.0832291], [0.679969, 0.620985, 0.380867, -0.00193258], [0.961621, -0.183372, -0.116012, -0.140363], [-0.435261, -0.620725, 0.136282, -0.632137], [-0.0785639, 0.396981, 0.793478, -0.445445], [-0.181677, 0.0570113, 0.849981, 0.483424]]\n",
    "prev = np.array(prev).transpose()"
   ]
  },
  {
   "cell_type": "code",
   "execution_count": 287,
   "id": "1858efd9-621a-4e0b-a5a5-3c0547f23e14",
   "metadata": {},
   "outputs": [
    {
     "data": {
      "text/plain": [
       "np.float64(-0.8099798399999987)"
      ]
     },
     "execution_count": 287,
     "metadata": {},
     "output_type": "execute_result"
    }
   ],
   "source": [
    "(result - prev).sum()"
   ]
  },
  {
   "cell_type": "code",
   "execution_count": 288,
   "id": "cc3e2e70-81bc-4861-a0c4-06dde000dfee",
   "metadata": {},
   "outputs": [],
   "source": [
    "dot_products = (result.transpose() @ result)"
   ]
  },
  {
   "cell_type": "code",
   "execution_count": 289,
   "id": "222a59a3-0e83-4c7b-829c-d4cc94c4157f",
   "metadata": {},
   "outputs": [],
   "source": [
    "scales = np.sqrt(dot_products.diagonal())"
   ]
  },
  {
   "cell_type": "code",
   "execution_count": 290,
   "id": "c8bd2f67-b245-49bb-a4e4-c874fa64a146",
   "metadata": {},
   "outputs": [],
   "source": [
    "scaled_dots = ((dot_products / scales).transpose()/scales).transpose()"
   ]
  },
  {
   "cell_type": "code",
   "execution_count": 291,
   "id": "8a550bed-ab44-403c-88ed-540181158e29",
   "metadata": {},
   "outputs": [],
   "source": [
    "scaled_results = result / scales"
   ]
  },
  {
   "cell_type": "code",
   "execution_count": 292,
   "id": "4e851b56-c7ef-4de8-a85e-c248ed7d9592",
   "metadata": {},
   "outputs": [
    {
     "data": {
      "text/plain": [
       "array([ 1.00000000e+00, -6.16175754e-08,  6.16175754e-08, -1.00000000e+00,\n",
       "        4.99999748e-01,  4.99999604e-01, -4.99999604e-01, -4.99999748e-01,\n",
       "        4.99999669e-01,  4.99999820e-01, -4.99999820e-01, -4.99999669e-01,\n",
       "        5.00000069e-01,  4.99999843e-01, -4.99999843e-01, -5.00000069e-01,\n",
       "        5.00000411e-01,  5.00000058e-01, -5.00000058e-01, -5.00000411e-01,\n",
       "        2.63090244e-08,  7.72944766e-08, -7.72944766e-08, -2.63090244e-08])"
      ]
     },
     "execution_count": 292,
     "metadata": {},
     "output_type": "execute_result"
    }
   ],
   "source": [
    "scaled_dots[0]"
   ]
  },
  {
   "cell_type": "code",
   "execution_count": 293,
   "id": "478dcb0d-6d72-40fb-b885-9a5cae90060c",
   "metadata": {},
   "outputs": [
    {
     "data": {
      "text/plain": [
       "array([ 1.00000000e+00, -6.16175754e-08,  6.16175754e-08, -1.00000000e+00,\n",
       "        4.99999748e-01,  4.99999604e-01, -4.99999604e-01, -4.99999748e-01,\n",
       "        4.99999669e-01,  4.99999820e-01, -4.99999820e-01, -4.99999669e-01,\n",
       "        5.00000069e-01,  4.99999843e-01, -4.99999843e-01, -5.00000069e-01,\n",
       "        5.00000411e-01,  5.00000058e-01, -5.00000058e-01, -5.00000411e-01,\n",
       "        2.63090244e-08,  7.72944766e-08, -7.72944766e-08, -2.63090244e-08])"
      ]
     },
     "execution_count": 293,
     "metadata": {},
     "output_type": "execute_result"
    }
   ],
   "source": [
    "(scaled_results.transpose() @ scaled_results)[0]"
   ]
  },
  {
   "cell_type": "code",
   "execution_count": 294,
   "id": "cb2a28e5-c82d-47df-b5ec-02a54e58ebf1",
   "metadata": {},
   "outputs": [
    {
     "data": {
      "text/plain": [
       "array([], dtype=float64)"
      ]
     },
     "execution_count": 294,
     "metadata": {},
     "output_type": "execute_result"
    }
   ],
   "source": [
    "scaled_dots[scaled_dots - np.eye(dot_products.shape[0]) > 0.53]"
   ]
  },
  {
   "cell_type": "code",
   "execution_count": 295,
   "id": "10d0dc0c-fab7-4772-a6a6-27c8965111a4",
   "metadata": {},
   "outputs": [
    {
     "data": {
      "text/plain": [
       "np.float64(0.5000005060922263)"
      ]
     },
     "execution_count": 295,
     "metadata": {},
     "output_type": "execute_result"
    }
   ],
   "source": [
    "(scaled_dots - np.eye(dot_products.shape[0])).max()"
   ]
  },
  {
   "cell_type": "code",
   "execution_count": 296,
   "id": "8aca4cef-571f-4d50-ac0b-29adfac667e4",
   "metadata": {},
   "outputs": [
    {
     "data": {
      "text/plain": [
       "array([], shape=(0, 2), dtype=int64)"
      ]
     },
     "execution_count": 296,
     "metadata": {},
     "output_type": "execute_result"
    }
   ],
   "source": [
    "np.argwhere(scaled_dots - np.eye(dot_products.shape[0]) > 0.53)"
   ]
  },
  {
   "cell_type": "code",
   "execution_count": 214,
   "id": "fb95ffef-0227-47cc-a4ef-312cc3e5dc1c",
   "metadata": {},
   "outputs": [],
   "source": [
    "check_row = 1"
   ]
  },
  {
   "cell_type": "code",
   "execution_count": 215,
   "id": "145fa132-5fe9-45b1-9d96-1485a9fbe935",
   "metadata": {},
   "outputs": [
    {
     "data": {
      "text/plain": [
       "array([-0.844698 ,  0.0745334, -0.448828 , -0.255003 ])"
      ]
     },
     "execution_count": 215,
     "metadata": {},
     "output_type": "execute_result"
    }
   ],
   "source": [
    "result[:,check_row]"
   ]
  },
  {
   "cell_type": "code",
   "execution_count": 216,
   "id": "c38b9cc5-0eb7-4308-84f0-da93da46b8b1",
   "metadata": {},
   "outputs": [
    {
     "data": {
      "text/plain": [
       "array([-0.78659225,  1.        , -0.20062702, -0.35917036, -0.25994563,\n",
       "       -0.06584374,  0.02333156, -0.80657197, -0.13819724,  0.49857136,\n",
       "        0.55106371,  0.16196259,  0.52575217, -0.29553058, -0.35113507,\n",
       "        0.54995202,  0.49997373,  0.50413116,  0.49670188, -0.8168923 ,\n",
       "       -0.76611726,  0.3002369 ,  0.061055  , -0.30334284])"
      ]
     },
     "execution_count": 216,
     "metadata": {},
     "output_type": "execute_result"
    }
   ],
   "source": [
    "scaled_dots[check_row]"
   ]
  },
  {
   "cell_type": "code",
   "execution_count": 217,
   "id": "943a5f21-93d3-4fd4-8268-3a79cad609a5",
   "metadata": {},
   "outputs": [],
   "source": [
    "DELTA = 1e-5;\n",
    "RAMP_IN = 5;"
   ]
  },
  {
   "cell_type": "code",
   "execution_count": 218,
   "id": "2901c45a-93c5-464b-89e0-4ca9ac54d71a",
   "metadata": {},
   "outputs": [
    {
     "data": {
      "text/plain": [
       "array([-0.78659225,  1.        , -0.20062702, -0.35917036, -0.25994563,\n",
       "       -0.06584374,  0.02333156, -0.80657197, -0.13819724,  0.49857136,\n",
       "        0.55106371,  0.16196259,  0.52575217, -0.29553058, -0.35113507,\n",
       "        0.54995202,  0.49997373,  0.50413116,  0.49670188, -0.8168923 ,\n",
       "       -0.76611726,  0.3002369 ,  0.061055  , -0.30334284])"
      ]
     },
     "execution_count": 218,
     "metadata": {},
     "output_type": "execute_result"
    }
   ],
   "source": [
    "scaled_dots[check_row]"
   ]
  },
  {
   "cell_type": "code",
   "execution_count": null,
   "id": "603e60eb-484d-42be-ac42-af2d9d2de874",
   "metadata": {},
   "outputs": [],
   "source": []
  },
  {
   "cell_type": "code",
   "execution_count": 219,
   "id": "f66829f1-c4f0-4919-b413-d6107e7c2946",
   "metadata": {},
   "outputs": [],
   "source": [
    "delta_values = scaled_dots[check_row].copy()\n",
    "delta_values[check_row] = 0\n",
    "delta_values = delta_values - (0.5 - (DELTA * RAMP_IN))\n",
    "delta_values = delta_values * (delta_values > 0)\n",
    "delta_values = delta_values / RAMP_IN\n",
    "delta_values = np.minimum(delta_values, DELTA)"
   ]
  },
  {
   "cell_type": "code",
   "execution_count": 220,
   "id": "4fb26872-44d4-463f-9d90-3dc859d1dcf0",
   "metadata": {},
   "outputs": [
    {
     "data": {
      "text/plain": [
       "array([-0.00000000e+00, -0.00000000e+00, -0.00000000e+00, -0.00000000e+00,\n",
       "       -0.00000000e+00, -0.00000000e+00, -0.00000000e+00, -0.00000000e+00,\n",
       "       -0.00000000e+00, -0.00000000e+00,  1.00000000e-05, -0.00000000e+00,\n",
       "        1.00000000e-05, -0.00000000e+00, -0.00000000e+00,  1.00000000e-05,\n",
       "        4.74647856e-06,  1.00000000e-05, -0.00000000e+00, -0.00000000e+00,\n",
       "       -0.00000000e+00, -0.00000000e+00, -0.00000000e+00, -0.00000000e+00])"
      ]
     },
     "execution_count": 220,
     "metadata": {},
     "output_type": "execute_result"
    }
   ],
   "source": [
    "delta_values"
   ]
  },
  {
   "cell_type": "code",
   "execution_count": 178,
   "id": "9edd8ece-a568-4c2f-b60c-dcdb418423b4",
   "metadata": {},
   "outputs": [],
   "source": [
    "delta_values =( scaled_dots[check_row] - (0.5 - (DELTA * RAMP_IN))) / RAMP_IN"
   ]
  },
  {
   "cell_type": "code",
   "execution_count": 202,
   "id": "dbdfcf2f-93d4-4243-9e67-d6bf09dd30c0",
   "metadata": {},
   "outputs": [
    {
     "data": {
      "text/plain": [
       "array([-1.43666804e-05,  1.48112498e-06, -7.05066059e-06, -6.99218977e-06])"
      ]
     },
     "execution_count": 202,
     "metadata": {},
     "output_type": "execute_result"
    }
   ],
   "source": [
    "(scaled_results * delta_values).sum(1)"
   ]
  },
  {
   "cell_type": "code",
   "execution_count": 203,
   "id": "08c7a328-02ee-48c2-8f67-2899de1d26f2",
   "metadata": {},
   "outputs": [
    {
     "data": {
      "text/plain": [
       "array([-0.81824052,  0.08589409, -0.4070275 , -0.39677861])"
      ]
     },
     "execution_count": 203,
     "metadata": {},
     "output_type": "execute_result"
    }
   ],
   "source": [
    "scaled_results[:,check_row]"
   ]
  },
  {
   "cell_type": "code",
   "execution_count": 204,
   "id": "e55fc1f3-4b19-4c96-98fe-adfcc22c5548",
   "metadata": {},
   "outputs": [
    {
     "data": {
      "text/plain": [
       "array([1.75580163e-05, 1.72436200e-05, 1.73223198e-05, 1.76223960e-05])"
      ]
     },
     "execution_count": 204,
     "metadata": {},
     "output_type": "execute_result"
    }
   ],
   "source": [
    "(scaled_results * delta_values).sum(1) / scaled_results[:,check_row]"
   ]
  },
  {
   "cell_type": "code",
   "execution_count": 176,
   "id": "b429531f-5e75-444b-aab1-9aa7671277d7",
   "metadata": {},
   "outputs": [
    {
     "data": {
      "text/plain": [
       "array([[-0.81824052, -0.42667648],\n",
       "       [ 0.08589409,  0.35453458],\n",
       "       [-0.4070275 , -0.05804024],\n",
       "       [-0.39677861, -0.82999021]])"
      ]
     },
     "execution_count": 176,
     "metadata": {},
     "output_type": "execute_result"
    }
   ],
   "source": [
    "scaled_results[:,scaled_dots[check_row] > 0.5]"
   ]
  },
  {
   "cell_type": "code",
   "execution_count": 177,
   "id": "0562d19d-d85b-40e0-bf8c-a66d66260f25",
   "metadata": {},
   "outputs": [
    {
     "data": {
      "text/plain": [
       "array([[-0.81824052, -0.42667648, -0.7630905 , -0.49175276, -0.88432235,\n",
       "        -0.1026002 , -0.43680969],\n",
       "       [ 0.08589409,  0.35453458,  0.54403284, -0.69610038, -0.2944908 ,\n",
       "         0.07540344, -0.62293359],\n",
       "       [-0.4070275 , -0.05804024,  0.33862954, -0.50805769,  0.31793376,\n",
       "        -0.99174969,  0.1367669 ],\n",
       "       [-0.39677861, -0.82999021,  0.08397145,  0.12450248,  0.1736873 ,\n",
       "        -0.014835  , -0.6343862 ]])"
      ]
     },
     "execution_count": 177,
     "metadata": {},
     "output_type": "execute_result"
    }
   ],
   "source": [
    "scaled_results[:,scaled_dots[check_row] > 0.5 - (RAMP_IN * DELTA)]"
   ]
  },
  {
   "cell_type": "code",
   "execution_count": 158,
   "id": "23c5ad41-e558-4b77-9f2f-96764c864d81",
   "metadata": {},
   "outputs": [
    {
     "data": {
      "text/plain": [
       "array([-1.24491701,  0.44042867, -0.46506774, -1.22676881])"
      ]
     },
     "execution_count": 158,
     "metadata": {},
     "output_type": "execute_result"
    }
   ],
   "source": [
    "scaled_results[:,scaled_dots[check_row] > 0.5].sum(1)"
   ]
  },
  {
   "cell_type": "code",
   "execution_count": 160,
   "id": "ae891fed-65e9-4ee7-b478-fd3065c9344d",
   "metadata": {},
   "outputs": [
    {
     "data": {
      "text/plain": [
       "array([1.52145606, 5.12757846, 1.14259536, 3.09182196])"
      ]
     },
     "execution_count": 160,
     "metadata": {},
     "output_type": "execute_result"
    }
   ],
   "source": [
    "scaled_results[:,scaled_dots[check_row] > 0.5].sum(1) / scaled_results[:,check_row]"
   ]
  },
  {
   "cell_type": "code",
   "execution_count": null,
   "id": "1fdc1405-3fb3-42e8-95f3-49d35a930e93",
   "metadata": {},
   "outputs": [],
   "source": []
  },
  {
   "cell_type": "code",
   "execution_count": null,
   "id": "4663f69f-a9aa-40de-9324-cd99c9548109",
   "metadata": {},
   "outputs": [],
   "source": []
  }
 ],
 "metadata": {
  "kernelspec": {
   "display_name": "Python 3 (ipykernel)",
   "language": "python",
   "name": "python3"
  },
  "language_info": {
   "codemirror_mode": {
    "name": "ipython",
    "version": 3
   },
   "file_extension": ".py",
   "mimetype": "text/x-python",
   "name": "python",
   "nbconvert_exporter": "python",
   "pygments_lexer": "ipython3",
   "version": "3.12.9"
  }
 },
 "nbformat": 4,
 "nbformat_minor": 5
}
